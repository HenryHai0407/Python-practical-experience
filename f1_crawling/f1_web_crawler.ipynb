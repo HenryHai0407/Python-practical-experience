{
 "cells": [
  {
   "cell_type": "code",
   "execution_count": 1,
   "metadata": {},
   "outputs": [],
   "source": [
    "import requests\n",
    "from bs4 import BeautifulSoup"
   ]
  },
  {
   "cell_type": "code",
   "execution_count": 4,
   "metadata": {},
   "outputs": [],
   "source": [
    "url = 'https://www.formula1.com/en/results/2024/drivers'\n",
    "response = requests.get(url)"
   ]
  },
  {
   "cell_type": "code",
   "execution_count": 53,
   "metadata": {},
   "outputs": [
    {
     "name": "stdout",
     "output_type": "stream",
     "text": [
      "Position: 1                  \n",
      "Driver Name: Max Verstappen                  \n",
      "Nationality: NED                  \n",
      "Car Type:   Red Bull Racing Honda RBPT                    \n",
      "Points:     437\n",
      "\n"
     ]
    }
   ],
   "source": [
    "if response.status_code == 200:\n",
    "    soup = BeautifulSoup(response.content, 'html.parser')\n",
    "    table = soup.find('table', class_='f1-table f1-table-with-data w-full')\n",
    "    # Extract the rows of the table\n",
    "    rows = table.find_all('tr')\n",
    "    \n",
    "    for row_id, row in enumerate(rows):\n",
    "        columns = row.find_all('td')\n",
    "        if columns:\n",
    "            #print(f\"row={row_id}: {columns}\")\n",
    "            position = columns[0].text.strip()\n",
    "            driver_name = columns[1].text.strip()[:-3]\n",
    "            nationality = columns[2].text.strip()\n",
    "            car_type = columns[3].text.strip()\n",
    "            pts = columns[4].text.strip()\n",
    "            print(f\"Position: {position}\\\n",
    "                  \\nDriver Name: {driver_name}\\\n",
    "                  \\nNationality: {nationality}\\\n",
    "                  \\nCar Type:   {car_type}\\\n",
    "                    \\nPoints:     {pts}\\n\")\n",
    "            break # Only print the first row\n",
    "                    \n",
    "    "
   ]
  },
  {
   "cell_type": "code",
   "execution_count": 54,
   "metadata": {},
   "outputs": [
    {
     "name": "stdout",
     "output_type": "stream",
     "text": [
      "CSV file saved at: f1_drivers.csv\n"
     ]
    }
   ],
   "source": [
    "# Extract to csv file\n",
    "import csv\n",
    "\n",
    "filename = 'f1_drivers.csv'\n",
    "with open(filename, 'w', newline='') as f:\n",
    "    writer = csv.writer(f)\n",
    "    writer.writerow(['Position', 'Driver Name', 'Nationality', 'Car Type', 'Points'])\n",
    "    \n",
    "    for row in rows:\n",
    "        columns = row.find_all('td')\n",
    "        if columns:\n",
    "            position = columns[0].text.strip()\n",
    "            driver_name = columns[1].text.strip()[:-3]\n",
    "            nationality = columns[2].text.strip()\n",
    "            car_type = columns[3].text.strip()\n",
    "            pts = columns[4].text.strip()\n",
    "            writer.writerow([position, driver_name, nationality, car_type, pts])\n",
    "\n",
    "print(f\"CSV file saved at: {filename}\")\n"
   ]
  }
 ],
 "metadata": {
  "kernelspec": {
   "display_name": "Python 3",
   "language": "python",
   "name": "python3"
  },
  "language_info": {
   "codemirror_mode": {
    "name": "ipython",
    "version": 3
   },
   "file_extension": ".py",
   "mimetype": "text/x-python",
   "name": "python",
   "nbconvert_exporter": "python",
   "pygments_lexer": "ipython3",
   "version": "3.12.1"
  }
 },
 "nbformat": 4,
 "nbformat_minor": 2
}
